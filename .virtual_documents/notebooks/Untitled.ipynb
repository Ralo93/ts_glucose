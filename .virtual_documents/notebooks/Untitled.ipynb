from sktime.forecasting.base import ForecastingHorizon
from sktime.split import (
    CutoffSplitter,
    ExpandingWindowSplitter,
    SingleWindowSplitter,
    SlidingWindowSplitter,
    temporal_train_test_split,
)


def plot_windows(y, train_windows, test_windows, title=""):
    """Visualize training and test windows"""

    simplefilter("ignore", category=UserWarning)

    def get_y(length, split):
        # Create a constant vector based on the split for y-axis."""
        return np.ones(length) * split

    n_splits = len(train_windows)
    n_timepoints = len(y)
    len_test = len(test_windows[0])

    train_color, test_color = sns.color_palette("colorblind")[:2]

    fig, ax = plt.subplots(figsize=plt.figaspect(0.3))

    for i in range(n_splits):
        train = train_windows[i]
        test = test_windows[i]

        ax.plot(
            np.arange(n_timepoints), get_y(n_timepoints, i), marker="o", c="lightgray"
        )
        ax.plot(
            train,
            get_y(len(train), i),
            marker="o",
            c=train_color,
            label="Window",
        )
        ax.plot(
            test,
            get_y(len_test, i),
            marker="o",
            c=test_color,
            label="Forecasting horizon",
        )
    ax.invert_yaxis()
    ax.yaxis.set_major_locator(MaxNLocator(integer=True))
    ax.set(
        title=title,
        ylabel="Window number",
        xlabel="Time",
        xticklabels=y.index,
    )
    # remove duplicate labels/handles
    handles, labels = [(leg[:2]) for leg in ax.get_legend_handles_labels()]
    ax.legend(handles, labels);


import numpy as np
import pandas as pd


import matplotlib.pyplot as plt

def plot_blood_glucose(time_series_data, start=0, end=30, figsize=(10, 6)):
    """
    Plots the blood glucose levels for a specified range of time points.
    
    Parameters:
    - time_series_data: DataFrame containing the time series data with a 'bg' column.
    - start: Starting index of the range to plot (default is 0).
    - end: Ending index of the range to plot (default is 30).
    - figsize: Tuple specifying the figure size (default is (10, 6)).
    """
    # Plot directly using matplotlib
    plt.figure(figsize=figsize)
    plt.plot(time_series_data.index[start:end], time_series_data['bg'].iloc[start:end], marker='o')
    plt.title(f'Blood Glucose Time Series (Points {start} to {end})')
    plt.xlabel('Time')
    plt.ylabel('Blood Glucose Level')
    plt.grid(True)
    plt.xticks(rotation=45)
    plt.tight_layout()

    # Show the plot
    plt.show()

# Example usage:
# plot_blood_glucose(time_series_data, start=0, end=30)




# Generate synthetic time series data (replace with your actual time series data)
time_series_data = pd.read_csv(r"..\data/processed/cleaned_up_patients/p12.csv")

# Ensure 'time' is converted to a DatetimeIndex
time_series_data['time'] = pd.to_datetime(time_series_data['time'])
time_series_data.set_index('time', inplace=True)

# Extract the 'bg' column as a Series for the first 30 values
test = time_series_data['bg'].iloc[:30]

plot_blood_glucose(time_series_data, start=0, end=30)

type(test)


!pip install --upgrade sktime





from sktime.forecasting.model_selection import temporal_train_test_split
import pandas as pd

# Read and process the data
time_series_data = pd.read_csv(r"..\data/processed/cleaned_up_patients/p12.csv")

# Ensure that 'time' is a DatetimeIndex
time_series_data['time'] = pd.to_datetime(time_series_data['time'])
time_series_data.set_index('time', inplace=True)

# Extract the 'bg' column as a Series
test = time_series_data['bg'].iloc[:30]

# Ensure the index is a DatetimeIndex
print(type(test.index))  # Should be <class 'pandas.core.indexes.datetimes.DatetimeIndex'>

# Now, you can split the time series data
y_train, y_test = temporal_train_test_split(y=test, test_size=0.25)

# Check the results
print("y_train:", y_train.head())
print("y_test:", y_test.head())


%pip install dask[dataframe]



