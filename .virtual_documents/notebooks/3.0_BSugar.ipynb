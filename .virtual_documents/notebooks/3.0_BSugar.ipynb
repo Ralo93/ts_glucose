import pandas as pd
from datetime import timedelta
import glob
import os
import matplotlib.pyplot as plt


ts = pd.read_csv(r"C:\Users\Administrator\Desktop\raphi_other\repositories\ts\data/raw/blood_glucose/test.csv")

#ts.plot()



from statsmodels.graphics.tsaplots import plot_acf

# plot the ACF
plot_acf(ts.bg)
plt.show()

#72 colum features


ts.head()


ts.columns[2:75]


ts.columns[75:147]


ts.columns[147:219]


ts.columns[219:291]


ts.columns[291:363]


ts.columns[363:435]


ts.columns[435:507]


ts.shape





ts.head()


## I need to encode p_num, time and activity
